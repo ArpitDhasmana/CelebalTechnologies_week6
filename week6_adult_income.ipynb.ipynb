{
  "cells": [
    {
      "cell_type": "markdown",
      "metadata": {
        "id": "iNUqEAhvTxbE"
      },
      "source": [
        "## Week‑6 End‑to‑End Assignment — Adult Income Dataset\n",
        "##\n",
        "## **Includes**\n",
        "## * Clustering: K‑Means, Hierarchical, DBSCAN, Gaussian Mixture\n",
        "## * Ensembles: Bagging (Random Forest), Boosting (Gradient Boosting), Stacking\n",
        "## * Regularisation: L1/L2/ElasticNet Logistic Regression\n",
        "## * Baseline vs Tuned model evaluation (Accuracy, Precision, Recall, F1)\n",
        "## * Hyper‑Parameter Tuning (GridSearchCV & RandomizedSearchCV)\n",
        "## * Graphical comparison of metrics before and after tuning\n",
        "\n",
        "## 1. **Imports & Global Settings**\n"
      ]
    },
    {
      "cell_type": "code",
      "execution_count": 1,
      "metadata": {
        "colab": {
          "base_uri": "https://localhost:8080/"
        },
        "id": "eZI39C-2S8kP",
        "outputId": "2552f33a-74f5-4d26-8598-2c7b841f6861"
      },
      "outputs": [
        {
          "name": "stdout",
          "output_type": "stream",
          "text": [
            "✓ Libraries imported.\n"
          ]
        }
      ],
      "source": [
        "import warnings, json, pprint, textwrap, itertools, math, os, sys, random\n",
        "warnings.filterwarnings(\"ignore\")\n",
        "\n",
        "import numpy as np\n",
        "import pandas as pd\n",
        "from pathlib import Path\n",
        "from urllib.request import urlretrieve\n",
        "\n",
        "# Scikit‑learn\n",
        "from sklearn.model_selection import (\n",
        "    train_test_split, StratifiedKFold,\n",
        "    GridSearchCV, RandomizedSearchCV, cross_val_score\n",
        ")\n",
        "from sklearn.preprocessing import OneHotEncoder, StandardScaler\n",
        "from sklearn.compose import ColumnTransformer\n",
        "from sklearn.pipeline import Pipeline\n",
        "from sklearn.metrics import (\n",
        "    accuracy_score, precision_score, recall_score, f1_score, classification_report\n",
        ")\n",
        "from sklearn.linear_model import LogisticRegression\n",
        "from sklearn.ensemble import RandomForestClassifier, GradientBoostingClassifier, StackingClassifier\n",
        "from sklearn.cluster import KMeans, AgglomerativeClustering, DBSCAN\n",
        "from sklearn.mixture import GaussianMixture\n",
        "from scipy.stats import randint, uniform\n",
        "\n",
        "# Visualisation\n",
        "import matplotlib.pyplot as plt\n",
        "plt.style.use(\"default\")\n",
        "\n",
        "RANDOM_STATE = 42\n",
        "print(\"✓ Libraries imported.\")\n"
      ]
    },
    {
      "cell_type": "markdown",
      "metadata": {
        "id": "GemLLzcoTtP2"
      },
      "source": [
        "## 2. Data Loading & Pre‑processing\n"
      ]
    },
    {
      "cell_type": "code",
      "execution_count": 2,
      "metadata": {
        "colab": {
          "base_uri": "https://localhost:8080/",
          "height": 293
        },
        "id": "3Hy5hnG_THD2",
        "outputId": "5a65a835-d83b-42bc-ef84-9fcc2fd741f9"
      },
      "outputs": [
        {
          "data": {
            "text/html": [
              "<div>\n",
              "<style scoped>\n",
              "    .dataframe tbody tr th:only-of-type {\n",
              "        vertical-align: middle;\n",
              "    }\n",
              "\n",
              "    .dataframe tbody tr th {\n",
              "        vertical-align: top;\n",
              "    }\n",
              "\n",
              "    .dataframe thead th {\n",
              "        text-align: right;\n",
              "    }\n",
              "</style>\n",
              "<table border=\"1\" class=\"dataframe\">\n",
              "  <thead>\n",
              "    <tr style=\"text-align: right;\">\n",
              "      <th></th>\n",
              "      <th>age</th>\n",
              "      <th>workclass</th>\n",
              "      <th>fnlwgt</th>\n",
              "      <th>education</th>\n",
              "      <th>education-num</th>\n",
              "      <th>marital-status</th>\n",
              "      <th>occupation</th>\n",
              "      <th>relationship</th>\n",
              "      <th>race</th>\n",
              "      <th>sex</th>\n",
              "      <th>capital-gain</th>\n",
              "      <th>capital-loss</th>\n",
              "      <th>hours-per-week</th>\n",
              "      <th>native-country</th>\n",
              "      <th>income</th>\n",
              "    </tr>\n",
              "  </thead>\n",
              "  <tbody>\n",
              "    <tr>\n",
              "      <th>0</th>\n",
              "      <td>39</td>\n",
              "      <td>State-gov</td>\n",
              "      <td>77516</td>\n",
              "      <td>Bachelors</td>\n",
              "      <td>13</td>\n",
              "      <td>Never-married</td>\n",
              "      <td>Adm-clerical</td>\n",
              "      <td>Not-in-family</td>\n",
              "      <td>White</td>\n",
              "      <td>Male</td>\n",
              "      <td>2174</td>\n",
              "      <td>0</td>\n",
              "      <td>40</td>\n",
              "      <td>United-States</td>\n",
              "      <td>&lt;=50K</td>\n",
              "    </tr>\n",
              "    <tr>\n",
              "      <th>1</th>\n",
              "      <td>50</td>\n",
              "      <td>Self-emp-not-inc</td>\n",
              "      <td>83311</td>\n",
              "      <td>Bachelors</td>\n",
              "      <td>13</td>\n",
              "      <td>Married-civ-spouse</td>\n",
              "      <td>Exec-managerial</td>\n",
              "      <td>Husband</td>\n",
              "      <td>White</td>\n",
              "      <td>Male</td>\n",
              "      <td>0</td>\n",
              "      <td>0</td>\n",
              "      <td>13</td>\n",
              "      <td>United-States</td>\n",
              "      <td>&lt;=50K</td>\n",
              "    </tr>\n",
              "    <tr>\n",
              "      <th>2</th>\n",
              "      <td>38</td>\n",
              "      <td>Private</td>\n",
              "      <td>215646</td>\n",
              "      <td>HS-grad</td>\n",
              "      <td>9</td>\n",
              "      <td>Divorced</td>\n",
              "      <td>Handlers-cleaners</td>\n",
              "      <td>Not-in-family</td>\n",
              "      <td>White</td>\n",
              "      <td>Male</td>\n",
              "      <td>0</td>\n",
              "      <td>0</td>\n",
              "      <td>40</td>\n",
              "      <td>United-States</td>\n",
              "      <td>&lt;=50K</td>\n",
              "    </tr>\n",
              "    <tr>\n",
              "      <th>3</th>\n",
              "      <td>53</td>\n",
              "      <td>Private</td>\n",
              "      <td>234721</td>\n",
              "      <td>11th</td>\n",
              "      <td>7</td>\n",
              "      <td>Married-civ-spouse</td>\n",
              "      <td>Handlers-cleaners</td>\n",
              "      <td>Husband</td>\n",
              "      <td>Black</td>\n",
              "      <td>Male</td>\n",
              "      <td>0</td>\n",
              "      <td>0</td>\n",
              "      <td>40</td>\n",
              "      <td>United-States</td>\n",
              "      <td>&lt;=50K</td>\n",
              "    </tr>\n",
              "    <tr>\n",
              "      <th>4</th>\n",
              "      <td>28</td>\n",
              "      <td>Private</td>\n",
              "      <td>338409</td>\n",
              "      <td>Bachelors</td>\n",
              "      <td>13</td>\n",
              "      <td>Married-civ-spouse</td>\n",
              "      <td>Prof-specialty</td>\n",
              "      <td>Wife</td>\n",
              "      <td>Black</td>\n",
              "      <td>Female</td>\n",
              "      <td>0</td>\n",
              "      <td>0</td>\n",
              "      <td>40</td>\n",
              "      <td>Cuba</td>\n",
              "      <td>&lt;=50K</td>\n",
              "    </tr>\n",
              "  </tbody>\n",
              "</table>\n",
              "</div>"
            ],
            "text/plain": [
              "   age         workclass  fnlwgt  education  education-num  \\\n",
              "0   39         State-gov   77516  Bachelors             13   \n",
              "1   50  Self-emp-not-inc   83311  Bachelors             13   \n",
              "2   38           Private  215646    HS-grad              9   \n",
              "3   53           Private  234721       11th              7   \n",
              "4   28           Private  338409  Bachelors             13   \n",
              "\n",
              "       marital-status         occupation   relationship   race     sex  \\\n",
              "0       Never-married       Adm-clerical  Not-in-family  White    Male   \n",
              "1  Married-civ-spouse    Exec-managerial        Husband  White    Male   \n",
              "2            Divorced  Handlers-cleaners  Not-in-family  White    Male   \n",
              "3  Married-civ-spouse  Handlers-cleaners        Husband  Black    Male   \n",
              "4  Married-civ-spouse     Prof-specialty           Wife  Black  Female   \n",
              "\n",
              "   capital-gain  capital-loss  hours-per-week native-country income  \n",
              "0          2174             0              40  United-States  <=50K  \n",
              "1             0             0              13  United-States  <=50K  \n",
              "2             0             0              40  United-States  <=50K  \n",
              "3             0             0              40  United-States  <=50K  \n",
              "4             0             0              40           Cuba  <=50K  "
            ]
          },
          "execution_count": 2,
          "metadata": {},
          "output_type": "execute_result"
        }
      ],
      "source": [
        "DATA_URL  = \"https://archive.ics.uci.edu/ml/machine-learning-databases/adult/adult.data\"\n",
        "COLS = [\n",
        "    'age','workclass','fnlwgt','education','education-num','marital-status',\n",
        "    'occupation','relationship','race','sex','capital-gain','capital-loss',\n",
        "    'hours-per-week','native-country','income'\n",
        "]\n",
        "\n",
        "csv_path = Path(\"adult.csv\")\n",
        "if not csv_path.exists():\n",
        "    urlretrieve(DATA_URL, csv_path)\n",
        "\n",
        "adult = pd.read_csv(csv_path, names=COLS, na_values=\" ?\", sep=\",\", skipinitialspace=True)\n",
        "adult.dropna(inplace=True)\n",
        "adult.head()\n"
      ]
    },
    {
      "cell_type": "code",
      "execution_count": 10,
      "metadata": {
        "colab": {
          "base_uri": "https://localhost:8080/"
        },
        "id": "8Str4fbUTUtW",
        "outputId": "2eed2991-4901-4fde-bf06-608ba00e145c"
      },
      "outputs": [
        {
          "name": "stdout",
          "output_type": "stream",
          "text": [
            "Train : (26048, 14), Test : (6513, 14)\n"
          ]
        }
      ],
      "source": [
        "# Split X/y\n",
        "X = adult.drop(\"income\", axis=1)\n",
        "y = (adult[\"income\"] == \">50K\").astype(int)\n",
        "\n",
        "# Column groups\n",
        "cat_cols = X.select_dtypes(\"object\").columns.tolist()\n",
        "num_cols = X.select_dtypes(exclude=\"object\").columns.tolist()\n",
        "\n",
        "preprocessor = ColumnTransformer(\n",
        "    [(\"num\", StandardScaler(), num_cols),\n",
        "     (\"cat\", OneHotEncoder(handle_unknown=\"ignore\"), cat_cols)]\n",
        ")\n",
        "\n",
        "X_train, X_test, y_train, y_test = train_test_split(\n",
        "    X, y, test_size=.2, stratify=y, random_state=RANDOM_STATE\n",
        ")\n",
        "print(f\"Train : {X_train.shape}, Test : {X_test.shape}\")\n"
      ]
    },
    {
      "cell_type": "markdown",
      "metadata": {
        "id": "gatWnxC8TdZM"
      },
      "source": [
        "# 3. Clustering Showcase (Week‑6 content)\n",
        "# *Purely unsupervised; serves as demo.*\n"
      ]
    },
    {
      "cell_type": "code",
      "execution_count": 11,
      "metadata": {
        "colab": {
          "base_uri": "https://localhost:8080/"
        },
        "id": "4FU2p6eNTYt2",
        "outputId": "2a3f2f94-460d-49fd-db10-014e7b73c589"
      },
      "outputs": [
        {
          "name": "stdout",
          "output_type": "stream",
          "text": [
            "\n",
            "🔸 K-Means\n",
            "Inertia: 259185.25042282767\n",
            "\n",
            "🔸 Hierarchical (Agglomerative)\n",
            "Clusters: 4\n",
            "\n",
            "🔸 DBSCAN\n",
            "Clusters incl. noise: 3\n",
            "\n",
            "🔸 Gaussian Mixture Model\n",
            "Converged: True n_iter: 13\n"
          ]
        }
      ],
      "source": [
        "X_full_enc = preprocessor.fit_transform(X)         # fit on full data\n",
        "\n",
        "print(\"\\n🔸 K-Means\")\n",
        "kmeans = KMeans(n_clusters=4, random_state=RANDOM_STATE).fit(X_full_enc)\n",
        "print(\"Inertia:\", kmeans.inertia_)\n",
        "\n",
        "print(\"\\n🔸 Hierarchical (Agglomerative)\")\n",
        "hc = AgglomerativeClustering(n_clusters=4)\n",
        "hc_labels = hc.fit_predict(X_full_enc.toarray() if hasattr(X_full_enc, \"toarray\") else X_full_enc)\n",
        "print(\"Clusters:\", np.unique(hc_labels).size)\n",
        "\n",
        "print(\"\\n🔸 DBSCAN\")\n",
        "db = DBSCAN(eps=2.5, min_samples=10).fit(X_full_enc)\n",
        "print(\"Clusters incl. noise:\", np.unique(db.labels_).size)\n",
        "\n",
        "print(\"\\n🔸 Gaussian Mixture Model\")\n",
        "gmm = GaussianMixture(n_components=4, random_state=RANDOM_STATE).fit(X_full_enc.toarray() if hasattr(X_full_enc, \"toarray\") else X_full_enc)\n",
        "print(\"Converged:\", gmm.converged_, \"n_iter:\", gmm.n_iter_)\n"
      ]
    },
    {
      "cell_type": "markdown",
      "metadata": {
        "id": "vl8_6NYdVFY6"
      },
      "source": [
        "## 4. Baseline Supervised Models (No Tuning)\n"
      ]
    },
    {
      "cell_type": "code",
      "execution_count": 12,
      "metadata": {
        "colab": {
          "base_uri": "https://localhost:8080/",
          "height": 664
        },
        "id": "gHGnlyEBVFDY",
        "outputId": "52705554-294b-4f51-f2ad-71027966bfe8"
      },
      "outputs": [
        {
          "name": "stdout",
          "output_type": "stream",
          "text": [
            "--- LogReg-L2 ---\n",
            "              precision    recall  f1-score   support\n",
            "\n",
            "           0      0.885     0.931     0.908      4945\n",
            "           1      0.740     0.620     0.675      1568\n",
            "\n",
            "    accuracy                          0.856      6513\n",
            "   macro avg      0.813     0.775     0.791      6513\n",
            "weighted avg      0.850     0.856     0.851      6513\n",
            "\n",
            "--- RandomForest ---\n",
            "              precision    recall  f1-score   support\n",
            "\n",
            "           0      0.889     0.927     0.908      4945\n",
            "           1      0.735     0.636     0.682      1568\n",
            "\n",
            "    accuracy                          0.857      6513\n",
            "   macro avg      0.812     0.782     0.795      6513\n",
            "weighted avg      0.852     0.857     0.854      6513\n",
            "\n",
            "--- GradBoost ---\n",
            "              precision    recall  f1-score   support\n",
            "\n",
            "           0      0.888     0.947     0.917      4945\n",
            "           1      0.788     0.624     0.696      1568\n",
            "\n",
            "    accuracy                          0.869      6513\n",
            "   macro avg      0.838     0.785     0.806      6513\n",
            "weighted avg      0.864     0.869     0.864      6513\n",
            "\n"
          ]
        },
        {
          "data": {
            "text/html": [
              "<div>\n",
              "<style scoped>\n",
              "    .dataframe tbody tr th:only-of-type {\n",
              "        vertical-align: middle;\n",
              "    }\n",
              "\n",
              "    .dataframe tbody tr th {\n",
              "        vertical-align: top;\n",
              "    }\n",
              "\n",
              "    .dataframe thead th {\n",
              "        text-align: right;\n",
              "    }\n",
              "</style>\n",
              "<table border=\"1\" class=\"dataframe\">\n",
              "  <thead>\n",
              "    <tr style=\"text-align: right;\">\n",
              "      <th></th>\n",
              "      <th>accuracy</th>\n",
              "      <th>precision</th>\n",
              "      <th>recall</th>\n",
              "      <th>f1</th>\n",
              "    </tr>\n",
              "  </thead>\n",
              "  <tbody>\n",
              "    <tr>\n",
              "      <th>LogReg-L2</th>\n",
              "      <td>0.855980</td>\n",
              "      <td>0.739726</td>\n",
              "      <td>0.619898</td>\n",
              "      <td>0.674532</td>\n",
              "    </tr>\n",
              "    <tr>\n",
              "      <th>RandomForest</th>\n",
              "      <td>0.857209</td>\n",
              "      <td>0.734904</td>\n",
              "      <td>0.636480</td>\n",
              "      <td>0.682160</td>\n",
              "    </tr>\n",
              "    <tr>\n",
              "      <th>GradBoost</th>\n",
              "      <td>0.869031</td>\n",
              "      <td>0.788074</td>\n",
              "      <td>0.623724</td>\n",
              "      <td>0.696333</td>\n",
              "    </tr>\n",
              "  </tbody>\n",
              "</table>\n",
              "</div>"
            ],
            "text/plain": [
              "              accuracy  precision    recall        f1\n",
              "LogReg-L2     0.855980   0.739726  0.619898  0.674532\n",
              "RandomForest  0.857209   0.734904  0.636480  0.682160\n",
              "GradBoost     0.869031   0.788074  0.623724  0.696333"
            ]
          },
          "execution_count": 12,
          "metadata": {},
          "output_type": "execute_result"
        }
      ],
      "source": [
        "def build_baseline_models():\n",
        "    return {\n",
        "        \"LogReg-L2\": Pipeline([(\"prep\", preprocessor),\n",
        "                               (\"clf\", LogisticRegression(max_iter=200, penalty=\"l2\", solver=\"lbfgs\", random_state=RANDOM_STATE))]),\n",
        "        \"RandomForest\": Pipeline([(\"prep\", preprocessor),\n",
        "                                  (\"clf\", RandomForestClassifier(random_state=RANDOM_STATE))]),\n",
        "        \"GradBoost\": Pipeline([(\"prep\", preprocessor),\n",
        "                               (\"clf\", GradientBoostingClassifier(random_state=RANDOM_STATE))]),\n",
        "    }\n",
        "\n",
        "def evaluate_model(name, model, X_te, y_te, store):\n",
        "    y_pred = model.predict(X_te)\n",
        "    store[name] = {\n",
        "        \"accuracy\":  accuracy_score(y_te, y_pred),\n",
        "        \"precision\": precision_score(y_te, y_pred),\n",
        "        \"recall\":    recall_score(y_te, y_pred),\n",
        "        \"f1\":        f1_score(y_te, y_pred),\n",
        "    }\n",
        "    print(f\"--- {name} ---\")\n",
        "    print(classification_report(y_te, y_pred, digits=3))\n",
        "\n",
        "baseline_scores = {}\n",
        "baseline_models  = build_baseline_models()\n",
        "for n, m in baseline_models.items():\n",
        "    m.fit(X_train, y_train)\n",
        "    evaluate_model(n, m, X_test, y_test, baseline_scores)\n",
        "\n",
        "pd.DataFrame(baseline_scores).T\n"
      ]
    },
    {
      "cell_type": "markdown",
      "metadata": {
        "id": "rYtq-2ENVM5w"
      },
      "source": [
        "## 5. Hyper‑Parameter Tuning\n"
      ]
    },
    {
      "cell_type": "code",
      "execution_count": 13,
      "metadata": {
        "colab": {
          "base_uri": "https://localhost:8080/"
        },
        "id": "RfcI8-WcVQV_",
        "outputId": "830679ec-aa86-4a37-c8c1-67413e251cf3"
      },
      "outputs": [
        {
          "name": "stdout",
          "output_type": "stream",
          "text": [
            "⏳ Tuning LogReg-Tuned …\n",
            "   best F1: 0.6577805540842714 params: {'clf__C': 1, 'clf__l1_ratio': None, 'clf__penalty': 'l2'}\n",
            "⏳ Tuning RandomForest-Tuned …\n",
            "   best F1: 0.6848058186571963 params: {'clf__max_depth': None, 'clf__min_samples_leaf': 2, 'clf__min_samples_split': 9, 'clf__n_estimators': 493}\n",
            "⏳ Tuning GradBoost-Tuned …\n",
            "   best F1: 0.7113470319450148 params: {'clf__learning_rate': 0.1, 'clf__max_depth': 4, 'clf__n_estimators': 200}\n"
          ]
        }
      ],
      "source": [
        "cv = StratifiedKFold(n_splits=5, shuffle=True, random_state=RANDOM_STATE)\n",
        "\n",
        "# Logistic Regression with L1, L2, ElasticNet\n",
        "log_pipe = Pipeline([(\"prep\", preprocessor),\n",
        "                     (\"clf\", LogisticRegression(max_iter=200, solver=\"saga\", random_state=RANDOM_STATE))])\n",
        "param_grid_lr = {\n",
        "    \"clf__penalty\": [\"l1\", \"l2\", \"elasticnet\"],\n",
        "    \"clf__C\": [0.01, 0.1, 1, 10],\n",
        "    \"clf__l1_ratio\": [None, 0.5, 0.7]  # only used for elasticnet\n",
        "}\n",
        "grid_lr = GridSearchCV(log_pipe, param_grid_lr, cv=cv, scoring=\"f1\", n_jobs=-1)\n",
        "\n",
        "# Random Forest – RandomizedSearchCV\n",
        "rf_pipe = Pipeline([(\"prep\", preprocessor),\n",
        "                    (\"clf\", RandomForestClassifier(random_state=RANDOM_STATE))])\n",
        "param_dist_rf = {\n",
        "    \"clf__n_estimators\": randint(200, 500),\n",
        "    \"clf__max_depth\": [None, 10, 20, 30],\n",
        "    \"clf__min_samples_split\": randint(2, 10),\n",
        "    \"clf__min_samples_leaf\": randint(1, 5)\n",
        "}\n",
        "rand_rf = RandomizedSearchCV(rf_pipe, param_dist_rf, n_iter=25, cv=cv,\n",
        "                             scoring=\"f1\", random_state=RANDOM_STATE, n_jobs=-1)\n",
        "\n",
        "# Gradient Boosting – GridSearchCV\n",
        "gb_pipe = Pipeline([(\"prep\", preprocessor),\n",
        "                    (\"clf\", GradientBoostingClassifier(random_state=RANDOM_STATE))])\n",
        "param_grid_gb = {\n",
        "    \"clf__n_estimators\": [100, 200],\n",
        "    \"clf__learning_rate\": [0.05, 0.1],\n",
        "    \"clf__max_depth\": [3, 4]\n",
        "}\n",
        "grid_gb = GridSearchCV(gb_pipe, param_grid_gb, cv=cv, scoring=\"f1\", n_jobs=-1)\n",
        "\n",
        "tuned_searches = {\n",
        "    \"LogReg-Tuned\": grid_lr,\n",
        "    \"RandomForest-Tuned\": rand_rf,\n",
        "    \"GradBoost-Tuned\": grid_gb,\n",
        "}\n",
        "\n",
        "# Fit searches\n",
        "for name, search in tuned_searches.items():\n",
        "    print(f\"⏳ Tuning {name} …\")\n",
        "    search.fit(X_train, y_train)\n",
        "    print(\"   best F1:\", search.best_score_, \"params:\", search.best_params_)\n"
      ]
    },
    {
      "cell_type": "code",
      "execution_count": 15,
      "metadata": {
        "id": "pdFL1R4RVZ9i"
      },
      "outputs": [
        {
          "name": "stdout",
          "output_type": "stream",
          "text": [
            "--- LogReg-Tuned ---\n",
            "              precision    recall  f1-score   support\n",
            "\n",
            "           0      0.885     0.931     0.908      4945\n",
            "           1      0.740     0.620     0.675      1568\n",
            "\n",
            "    accuracy                          0.856      6513\n",
            "   macro avg      0.813     0.775     0.791      6513\n",
            "weighted avg      0.850     0.856     0.851      6513\n",
            "\n",
            "--- RandomForest-Tuned ---\n",
            "              precision    recall  f1-score   support\n",
            "\n",
            "           0      0.891     0.944     0.917      4945\n",
            "           1      0.782     0.635     0.701      1568\n",
            "\n",
            "    accuracy                          0.869      6513\n",
            "   macro avg      0.836     0.789     0.809      6513\n",
            "weighted avg      0.865     0.869     0.865      6513\n",
            "\n",
            "--- GradBoost-Tuned ---\n",
            "              precision    recall  f1-score   support\n",
            "\n",
            "           0      0.898     0.943     0.920      4945\n",
            "           1      0.787     0.663     0.719      1568\n",
            "\n",
            "    accuracy                          0.875      6513\n",
            "   macro avg      0.842     0.803     0.820      6513\n",
            "weighted avg      0.871     0.875     0.872      6513\n",
            "\n"
          ]
        },
        {
          "data": {
            "text/html": [
              "<div>\n",
              "<style scoped>\n",
              "    .dataframe tbody tr th:only-of-type {\n",
              "        vertical-align: middle;\n",
              "    }\n",
              "\n",
              "    .dataframe tbody tr th {\n",
              "        vertical-align: top;\n",
              "    }\n",
              "\n",
              "    .dataframe thead th {\n",
              "        text-align: right;\n",
              "    }\n",
              "</style>\n",
              "<table border=\"1\" class=\"dataframe\">\n",
              "  <thead>\n",
              "    <tr style=\"text-align: right;\">\n",
              "      <th></th>\n",
              "      <th>accuracy</th>\n",
              "      <th>precision</th>\n",
              "      <th>recall</th>\n",
              "      <th>f1</th>\n",
              "    </tr>\n",
              "  </thead>\n",
              "  <tbody>\n",
              "    <tr>\n",
              "      <th>LogReg-Tuned</th>\n",
              "      <td>0.855980</td>\n",
              "      <td>0.739726</td>\n",
              "      <td>0.619898</td>\n",
              "      <td>0.674532</td>\n",
              "    </tr>\n",
              "    <tr>\n",
              "      <th>RandomForest-Tuned</th>\n",
              "      <td>0.869492</td>\n",
              "      <td>0.782233</td>\n",
              "      <td>0.634566</td>\n",
              "      <td>0.700704</td>\n",
              "    </tr>\n",
              "    <tr>\n",
              "      <th>GradBoost-Tuned</th>\n",
              "      <td>0.875480</td>\n",
              "      <td>0.786525</td>\n",
              "      <td>0.662628</td>\n",
              "      <td>0.719280</td>\n",
              "    </tr>\n",
              "  </tbody>\n",
              "</table>\n",
              "</div>"
            ],
            "text/plain": [
              "                    accuracy  precision    recall        f1\n",
              "LogReg-Tuned        0.855980   0.739726  0.619898  0.674532\n",
              "RandomForest-Tuned  0.869492   0.782233  0.634566  0.700704\n",
              "GradBoost-Tuned     0.875480   0.786525  0.662628  0.719280"
            ]
          },
          "execution_count": 15,
          "metadata": {},
          "output_type": "execute_result"
        }
      ],
      "source": [
        "# Evaluate tuned models on test set\n",
        "tuned_scores = {}\n",
        "for name, search in tuned_searches.items():\n",
        "    best_model = search.best_estimator_\n",
        "    evaluate_model(name, best_model, X_test, y_test, tuned_scores)\n",
        "\n",
        "pd.DataFrame(tuned_scores).T\n"
      ]
    },
    {
      "cell_type": "markdown",
      "metadata": {
        "id": "V2QVISyKVcSd"
      },
      "source": [
        "## 6. Stacking Ensemble (Meta‑model)\n"
      ]
    },
    {
      "cell_type": "code",
      "execution_count": 17,
      "metadata": {
        "id": "RdPuqwaWVgXG"
      },
      "outputs": [
        {
          "name": "stdout",
          "output_type": "stream",
          "text": [
            "--- Stacking ---\n",
            "              precision    recall  f1-score   support\n",
            "\n",
            "           0      0.892     0.941     0.916      4945\n",
            "           1      0.774     0.640     0.701      1568\n",
            "\n",
            "    accuracy                          0.868      6513\n",
            "   macro avg      0.833     0.791     0.808      6513\n",
            "weighted avg      0.864     0.868     0.864      6513\n",
            "\n"
          ]
        }
      ],
      "source": [
        "stack = StackingClassifier(\n",
        "    estimators=[\n",
        "        (\"lr\", tuned_searches[\"LogReg-Tuned\"].best_estimator_),\n",
        "        (\"rf\", tuned_searches[\"RandomForest-Tuned\"].best_estimator_),\n",
        "    ],\n",
        "    final_estimator=GradientBoostingClassifier(random_state=RANDOM_STATE),\n",
        "    cv=cv, n_jobs=-1\n",
        ")\n",
        "stack.fit(X_train, y_train)\n",
        "stack_scores = {}\n",
        "evaluate_model(\"Stacking\", stack, X_test, y_test, stack_scores)\n"
      ]
    },
    {
      "cell_type": "markdown",
      "metadata": {
        "id": "-r2Jpl5PVjxa"
      },
      "source": [
        "## 7. Combine & Plot Baseline vs Tuned Scores\n"
      ]
    },
    {
      "cell_type": "code",
      "execution_count": 27,
      "metadata": {
        "id": "bqDchP9LVnF9"
      },
      "outputs": [
        {
          "data": {
            "image/png": "[encoded data removed]",
            "text/plain": [
              "<Figure size 1200x800 with 4 Axes>"
            ]
          },
          "metadata": {},
          "output_type": "display_data"
        }
      ],
      "source": [
        "import re\n",
        "display_cols = [\"accuracy\", \"precision\", \"recall\", \"f1\"]\n",
        "\n",
        "def root(name: str) -> str:\n",
        "    name = name.replace(\"‑\", \"-\")\n",
        "    return re.split(r\"[-_]\", name)[0].lower()\n",
        "\n",
        "base_map  = {root(i): i for i in baseline_df.index}\n",
        "tuned_map = {root(i): i for i in tuned_df.index}\n",
        "common_roots = sorted(set(base_map) & set(tuned_map))\n",
        "\n",
        "baseline_plot = baseline_df.loc[[base_map[r] for r in common_roots], display_cols]\n",
        "tuned_plot    = tuned_df.loc[[tuned_map[r]  for r in common_roots], display_cols]\n",
        "labels = [r.title() for r in common_roots]\n",
        "\n",
        "fig, axes = plt.subplots(2, 2, figsize=(12, 8))\n",
        "axes = axes.ravel()\n",
        "width = 0.35\n",
        "ind   = np.arange(len(common_roots))\n",
        "\n",
        "for i, metric in enumerate(display_cols):\n",
        "    ax = axes[i]\n",
        "    ax.bar(ind - width/2, baseline_plot[metric], width, label=\"Baseline\")\n",
        "    ax.bar(ind + width/2, tuned_plot[metric],   width, label=\"Tuned\")\n",
        "    ax.set_title(metric.upper())\n",
        "    ax.set_xticks(ind)\n",
        "    ax.set_xticklabels(labels, rotation=15, ha=\"right\")\n",
        "    ax.set_ylim(0, 1)\n",
        "    ax.legend(loc=\"lower right\")\n",
        "\n",
        "plt.tight_layout()\n",
        "plt.show()\n"
      ]
    },
    {
      "cell_type": "markdown",
      "metadata": {
        "id": "nmUD4GX4VwWa"
      },
      "source": [
        "## 8. Summary Table\n"
      ]
    },
    {
      "cell_type": "code",
      "execution_count": 23,
      "metadata": {
        "id": "enlfhcQSVywC"
      },
      "outputs": [
        {
          "data": {
            "text/html": [
              "<style type=\"text/css\">\n",
              "</style>\n",
              "<table id=\"T_e14a2\">\n",
              "  <thead>\n",
              "    <tr>\n",
              "      <th class=\"blank level0\" >&nbsp;</th>\n",
              "      <th id=\"T_e14a2_level0_col0\" class=\"col_heading level0 col0\" >accuracy</th>\n",
              "      <th id=\"T_e14a2_level0_col1\" class=\"col_heading level0 col1\" >precision</th>\n",
              "      <th id=\"T_e14a2_level0_col2\" class=\"col_heading level0 col2\" >recall</th>\n",
              "      <th id=\"T_e14a2_level0_col3\" class=\"col_heading level0 col3\" >f1</th>\n",
              "    </tr>\n",
              "  </thead>\n",
              "  <tbody>\n",
              "    <tr>\n",
              "      <th id=\"T_e14a2_level0_row0\" class=\"row_heading level0 row0\" >GradBoost-Tuned</th>\n",
              "      <td id=\"T_e14a2_row0_col0\" class=\"data row0 col0\" >0.875</td>\n",
              "      <td id=\"T_e14a2_row0_col1\" class=\"data row0 col1\" >0.787</td>\n",
              "      <td id=\"T_e14a2_row0_col2\" class=\"data row0 col2\" >0.663</td>\n",
              "      <td id=\"T_e14a2_row0_col3\" class=\"data row0 col3\" >0.719</td>\n",
              "    </tr>\n",
              "    <tr>\n",
              "      <th id=\"T_e14a2_level0_row1\" class=\"row_heading level0 row1\" >Stacking</th>\n",
              "      <td id=\"T_e14a2_row1_col0\" class=\"data row1 col0\" >0.868</td>\n",
              "      <td id=\"T_e14a2_row1_col1\" class=\"data row1 col1\" >0.774</td>\n",
              "      <td id=\"T_e14a2_row1_col2\" class=\"data row1 col2\" >0.640</td>\n",
              "      <td id=\"T_e14a2_row1_col3\" class=\"data row1 col3\" >0.701</td>\n",
              "    </tr>\n",
              "    <tr>\n",
              "      <th id=\"T_e14a2_level0_row2\" class=\"row_heading level0 row2\" >RandomForest-Tuned</th>\n",
              "      <td id=\"T_e14a2_row2_col0\" class=\"data row2 col0\" >0.869</td>\n",
              "      <td id=\"T_e14a2_row2_col1\" class=\"data row2 col1\" >0.782</td>\n",
              "      <td id=\"T_e14a2_row2_col2\" class=\"data row2 col2\" >0.635</td>\n",
              "      <td id=\"T_e14a2_row2_col3\" class=\"data row2 col3\" >0.701</td>\n",
              "    </tr>\n",
              "    <tr>\n",
              "      <th id=\"T_e14a2_level0_row3\" class=\"row_heading level0 row3\" >LogReg-Tuned</th>\n",
              "      <td id=\"T_e14a2_row3_col0\" class=\"data row3 col0\" >0.856</td>\n",
              "      <td id=\"T_e14a2_row3_col1\" class=\"data row3 col1\" >0.740</td>\n",
              "      <td id=\"T_e14a2_row3_col2\" class=\"data row3 col2\" >0.620</td>\n",
              "      <td id=\"T_e14a2_row3_col3\" class=\"data row3 col3\" >0.675</td>\n",
              "    </tr>\n",
              "  </tbody>\n",
              "</table>\n"
            ],
            "text/plain": [
              "<pandas.io.formats.style.Styler at 0x22c376a97e0>"
            ]
          },
          "execution_count": 23,
          "metadata": {},
          "output_type": "execute_result"
        }
      ],
      "source": [
        "final_df = tuned_df[display_cols].copy()\n",
        "final_df.loc[\"Stacking\"] = stack_scores[\"Stacking\"]\n",
        "final_df = final_df.sort_values(\"f1\", ascending=False)\n",
        "final_df.style.format(\"{:.3f}\")\n"
      ]
    }
  ],
  "metadata": {
    "colab": {
      "provenance": []
    },
    "kernelspec": {
      "display_name": "Python 3",
      "name": "python3"
    },
    "language_info": {
      "codemirror_mode": {
        "name": "ipython",
        "version": 3
      },
      "file_extension": ".py",
      "mimetype": "text/x-python",
      "name": "python",
      "nbconvert_exporter": "python",
      "pygments_lexer": "ipython3",
      "version": "3.10.11"
    }
  },
  "nbformat": 4,
  "nbformat_minor": 0
}
